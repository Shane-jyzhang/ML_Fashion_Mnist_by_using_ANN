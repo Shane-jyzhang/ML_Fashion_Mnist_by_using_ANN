{
 "cells": [
  {
   "cell_type": "code",
   "execution_count": 644,
   "id": "8d5aa426",
   "metadata": {},
   "outputs": [],
   "source": [
    "import pandas as pd     # dataframes\n",
    "import numpy as np      # numbers and arrays \n",
    "import matplotlib.pyplot as plt  # plotting\n",
    "from sklearn import datasets     \n",
    "from sklearn.model_selection import train_test_split"
   ]
  },
  {
   "cell_type": "code",
   "execution_count": 645,
   "id": "70430ea2",
   "metadata": {},
   "outputs": [],
   "source": [
    "from keras.models import Sequential\n",
    "from keras.layers import Dense, Activation,Flatten\n",
    "from keras.datasets import fashion_mnist as fashion_mnist"
   ]
  },
  {
   "cell_type": "code",
   "execution_count": 646,
   "id": "fc7be38f",
   "metadata": {},
   "outputs": [],
   "source": [
    "(X_train_full,y_train_full),(X_test,y_test)=fashion_mnist.load_data() \n",
    "# don't forget to shuffle training and testing data !"
   ]
  },
  {
   "cell_type": "code",
   "execution_count": 675,
   "id": "837ac1f1",
   "metadata": {},
   "outputs": [
    {
     "data": {
      "text/plain": [
       "(10000, 28, 28)"
      ]
     },
     "execution_count": 675,
     "metadata": {},
     "output_type": "execute_result"
    }
   ],
   "source": [
    "X_train_full.shape\n",
    "X_test.shape"
   ]
  },
  {
   "cell_type": "markdown",
   "id": "92a4ab6e",
   "metadata": {},
   "source": [
    "# Task2 -- Change the choice of instances for training, validation and testing."
   ]
  },
  {
   "cell_type": "code",
   "execution_count": 676,
   "id": "a407fec1",
   "metadata": {},
   "outputs": [
    {
     "data": {
      "text/plain": [
       "(70000, 28, 28)"
      ]
     },
     "execution_count": 676,
     "metadata": {},
     "output_type": "execute_result"
    }
   ],
   "source": [
    "X_max=np.concatenate((X_train_full,X_test),axis=0)\n",
    "X_max.shape"
   ]
  },
  {
   "cell_type": "code",
   "execution_count": 677,
   "id": "ae6a5df5",
   "metadata": {},
   "outputs": [
    {
     "data": {
      "text/plain": [
       "(70000,)"
      ]
     },
     "execution_count": 677,
     "metadata": {},
     "output_type": "execute_result"
    }
   ],
   "source": [
    "y_max=np.concatenate((y_train_full,y_test),axis=0)\n",
    "y_max.shape"
   ]
  },
  {
   "cell_type": "markdown",
   "id": "a4140c98",
   "metadata": {},
   "source": [
    "# Task4 -- Test this by picking only a tenth of the available data"
   ]
  },
  {
   "cell_type": "code",
   "execution_count": 679,
   "id": "e2f2ce09",
   "metadata": {},
   "outputs": [
    {
     "data": {
      "text/plain": [
       "(10000, 28, 28)"
      ]
     },
     "execution_count": 679,
     "metadata": {},
     "output_type": "execute_result"
    }
   ],
   "source": [
    "X_train=X_max[:10000]\n",
    "X_test=X_max[:10000]\n",
    "X_train.shape"
   ]
  },
  {
   "cell_type": "code",
   "execution_count": 680,
   "id": "6631ecea",
   "metadata": {},
   "outputs": [
    {
     "data": {
      "text/plain": [
       "(10000,)"
      ]
     },
     "execution_count": 680,
     "metadata": {},
     "output_type": "execute_result"
    }
   ],
   "source": [
    "y_train=y_max[:10000]\n",
    "#y_test=y_max[:10000]\n",
    "y_train.shape"
   ]
  },
  {
   "cell_type": "code",
   "execution_count": 681,
   "id": "2e373251",
   "metadata": {},
   "outputs": [
    {
     "data": {
      "text/plain": [
       "(10000, 28, 28)"
      ]
     },
     "execution_count": 681,
     "metadata": {},
     "output_type": "execute_result"
    }
   ],
   "source": [
    "X_test.shape #10000\n",
    "#X_train_full.shape #60000\n",
    "#y_test.shape #10000\n",
    "#y_train_full.shape #60000"
   ]
  },
  {
   "cell_type": "code",
   "execution_count": 682,
   "id": "a65043ae",
   "metadata": {},
   "outputs": [
    {
     "data": {
      "text/plain": [
       "numpy.uint8"
      ]
     },
     "execution_count": 682,
     "metadata": {},
     "output_type": "execute_result"
    }
   ],
   "source": [
    "X_train_full[1,:,:]\n",
    "type(X_train_full[1,1,1])\n",
    "#X_train_full.dtype"
   ]
  },
  {
   "cell_type": "code",
   "execution_count": 683,
   "id": "fc76eb1f",
   "metadata": {},
   "outputs": [
    {
     "data": {
      "image/png": "[encoded data removed]",
      "text/plain": [
       "<Figure size 640x480 with 1 Axes>"
      ]
     },
     "metadata": {},
     "output_type": "display_data"
    }
   ],
   "source": [
    "image=X_train_full[0,:,:]\n",
    "image=X_test[0]\n",
    "plt.imshow(image,cmap='gray')\n",
    "plt.show()"
   ]
  },
  {
   "cell_type": "code",
   "execution_count": 684,
   "id": "1f421b3a",
   "metadata": {},
   "outputs": [
    {
     "data": {
      "text/plain": [
       "9"
      ]
     },
     "execution_count": 684,
     "metadata": {},
     "output_type": "execute_result"
    }
   ],
   "source": [
    "y_train_full[0]"
   ]
  },
  {
   "cell_type": "code",
   "execution_count": 685,
   "id": "36d704d9",
   "metadata": {},
   "outputs": [],
   "source": [
    "class_names=[\"T-shirt\",\"Trousers\",\"Pullover\",\"Dress\",\"Coat\",\"Sandal\",\"Shirt\",\"Sneaker\",\"Bag\",\"Ankle boot\"]\n",
    "#type(class_names)"
   ]
  },
  {
   "cell_type": "code",
   "execution_count": 686,
   "id": "88b88f0f",
   "metadata": {},
   "outputs": [
    {
     "data": {
      "text/plain": [
       "'Ankle boot'"
      ]
     },
     "execution_count": 686,
     "metadata": {},
     "output_type": "execute_result"
    }
   ],
   "source": [
    "class_names[y_train_full[0]]"
   ]
  },
  {
   "cell_type": "code",
   "execution_count": 687,
   "id": "677c0fba",
   "metadata": {},
   "outputs": [],
   "source": [
    "X_valid=X_train_full[:5000]/255.0  # first 5000 instances of X_train_full\n",
    "X_train=X_train_full[5000:]\n",
    "y_valid=y_train_full[:5000]  # first 5000 instances of y_train_full\n",
    "y_train=y_train_full[5000:]\n",
    "X_test=X_test/255.0"
   ]
  },
  {
   "cell_type": "code",
   "execution_count": 688,
   "id": "5c29853a",
   "metadata": {},
   "outputs": [
    {
     "data": {
      "text/plain": [
       "(55000, 28, 28)"
      ]
     },
     "execution_count": 688,
     "metadata": {},
     "output_type": "execute_result"
    }
   ],
   "source": [
    "#X_test[0]\n",
    "X_valid.shape\n",
    "#y_train.shape\n",
    "X_train.shape"
   ]
  },
  {
   "cell_type": "code",
   "execution_count": 689,
   "id": "46553087",
   "metadata": {},
   "outputs": [
    {
     "data": {
      "text/plain": [
       "(10000, 28, 28)"
      ]
     },
     "execution_count": 689,
     "metadata": {},
     "output_type": "execute_result"
    }
   ],
   "source": [
    "#X_train_full[4999]\n",
    "y_test.shape\n",
    "X_test.shape"
   ]
  },
  {
   "cell_type": "markdown",
   "id": "80544e07",
   "metadata": {},
   "source": [
    "# Task3 -- reduce number of neurons / layers"
   ]
  },
  {
   "cell_type": "code",
   "execution_count": 690,
   "id": "9d0c66df",
   "metadata": {},
   "outputs": [],
   "source": [
    "model = Sequential()\n",
    "model.add(Flatten(input_shape=(28,28))) #input\n",
    "model.add(Dense(150,activation=\"relu\")) #Sigmoid / relu    300->200\n",
    "#model.add(Dense(100,activation=\"relu\")) #layer    100->50\n",
    "model.add(Dense(10,activation=\"softmax\")) #output"
   ]
  },
  {
   "cell_type": "code",
   "execution_count": 691,
   "id": "7782dc53",
   "metadata": {},
   "outputs": [
    {
     "name": "stdout",
     "output_type": "stream",
     "text": [
      "Model: \"sequential_40\"\n",
      "_________________________________________________________________\n",
      " Layer (type)                Output Shape              Param #   \n",
      "=================================================================\n",
      " flatten_40 (Flatten)        (None, 784)               0         \n",
      "                                                                 \n",
      " dense_110 (Dense)           (None, 300)               235500    \n",
      "                                                                 \n",
      " dense_111 (Dense)           (None, 100)               30100     \n",
      "                                                                 \n",
      " dense_112 (Dense)           (None, 10)                1010      \n",
      "                                                                 \n",
      "=================================================================\n",
      "Total params: 266,610\n",
      "Trainable params: 266,610\n",
      "Non-trainable params: 0\n",
      "_________________________________________________________________\n"
     ]
    }
   ],
   "source": [
    "model.summary()"
   ]
  },
  {
   "cell_type": "code",
   "execution_count": 692,
   "id": "3fb80948",
   "metadata": {},
   "outputs": [],
   "source": [
    "model.compile(loss=\"sparse_categorical_crossentropy\",\n",
    "             optimizer=\"sgd\",\n",
    "             metrics=[\"accuracy\"])"
   ]
  },
  {
   "cell_type": "code",
   "execution_count": 693,
   "id": "c75438f0",
   "metadata": {
    "scrolled": true
   },
   "outputs": [
    {
     "name": "stdout",
     "output_type": "stream",
     "text": [
      "Epoch 1/5\n",
      "1719/1719 [==============================] - 2s 1ms/step - loss: nan - accuracy: 0.1006 - val_loss: nan - val_accuracy: 0.0914\n",
      "Epoch 2/5\n",
      "1719/1719 [==============================] - 2s 1ms/step - loss: nan - accuracy: 0.1008 - val_loss: nan - val_accuracy: 0.0914\n",
      "Epoch 3/5\n",
      "1719/1719 [==============================] - 2s 1ms/step - loss: nan - accuracy: 0.1008 - val_loss: nan - val_accuracy: 0.0914\n",
      "Epoch 4/5\n",
      "1719/1719 [==============================] - 2s 1ms/step - loss: nan - accuracy: 0.1008 - val_loss: nan - val_accuracy: 0.0914\n",
      "Epoch 5/5\n",
      "1719/1719 [==============================] - 2s 1ms/step - loss: nan - accuracy: 0.1008 - val_loss: nan - val_accuracy: 0.0914\n"
     ]
    }
   ],
   "source": [
    "history=model.fit(X_train,y_train,epochs=5,validation_data=(X_valid,y_valid))"
   ]
  },
  {
   "cell_type": "raw",
   "id": "a0e354ad",
   "metadata": {},
   "source": [
    "\"Task3\"\n",
    "--- reduce number of neurons --> accuracy goes down to 0.8536 ---\n",
    "--- reduce number of layers --> accuracy goes down to 0.8554 ---\n",
    "--- reduce both number of neurons and layers --> accuracy goes down to 0.094 ---"
   ]
  },
  {
   "cell_type": "code",
   "execution_count": 665,
   "id": "cac817f0",
   "metadata": {},
   "outputs": [
    {
     "data": {
      "image/png": "[encoded data removed]",
      "text/plain": [
       "<Figure size 800x500 with 1 Axes>"
      ]
     },
     "metadata": {},
     "output_type": "display_data"
    }
   ],
   "source": [
    "pd.DataFrame(history.history).plot(figsize=(8,5))\n",
    "plt.grid(True)\n",
    "plt.gca().set_ylim(0,1)\n",
    "plt.show()"
   ]
  },
  {
   "cell_type": "code",
   "execution_count": 666,
   "id": "da395027",
   "metadata": {},
   "outputs": [
    {
     "name": "stdout",
     "output_type": "stream",
     "text": [
      "313/313 [==============================] - 0s 768us/step - loss: 2.3048 - accuracy: 0.1016\n"
     ]
    },
    {
     "data": {
      "text/plain": [
       "[2.3048489093780518, 0.10159999877214432]"
      ]
     },
     "execution_count": 666,
     "metadata": {},
     "output_type": "execute_result"
    }
   ],
   "source": [
    "model.evaluate(X_test,y_test)"
   ]
  },
  {
   "cell_type": "raw",
   "id": "43f11fe5",
   "metadata": {},
   "source": [
    "\"Task4\"\n",
    "--- reduce the number of trainning data and the layer --> accuracy goes down to 0.1000 ---"
   ]
  },
  {
   "cell_type": "code",
   "execution_count": null,
   "id": "bfe40c6d",
   "metadata": {},
   "outputs": [],
   "source": []
  },
  {
   "cell_type": "code",
   "execution_count": null,
   "id": "c5a57762",
   "metadata": {},
   "outputs": [],
   "source": []
  }
 ],
 "metadata": {
  "kernelspec": {
   "display_name": "Python 3 (ipykernel)",
   "language": "python",
   "name": "python3"
  },
  "language_info": {
   "codemirror_mode": {
    "name": "ipython",
    "version": 3
   },
   "file_extension": ".py",
   "mimetype": "text/x-python",
   "name": "python",
   "nbconvert_exporter": "python",
   "pygments_lexer": "ipython3",
   "version": "3.9.15"
  }
 },
 "nbformat": 4,
 "nbformat_minor": 5
}
