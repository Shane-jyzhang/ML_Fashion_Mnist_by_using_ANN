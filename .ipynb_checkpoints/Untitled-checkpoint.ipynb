{
 "cells": [
  {
   "cell_type": "code",
   "execution_count": 18,
   "id": "4cb6b364",
   "metadata": {},
   "outputs": [],
   "source": [
    "import pandas as pd     # dataframes\n",
    "import numpy as np      # numbers and arrays \n",
    "import matplotlib.pyplot as plt  # plotting\n",
    "from sklearn import datasets     \n",
    "from sklearn.model_selection import train_test_split"
   ]
  },
  {
   "cell_type": "code",
   "execution_count": null,
   "id": "3cb76767",
   "metadata": {},
   "outputs": [],
   "source": [
    "from keras.models import Sequential\n",
    "from keras.layers import Dense, Activation,Flatten\n",
    "from keras.datasets import fashion_mnist as fashion_mnist"
   ]
  },
  {
   "cell_type": "code",
   "execution_count": null,
   "id": "9a06fd4f",
   "metadata": {},
   "outputs": [],
   "source": [
    "X = np.array([0, 1, 2])\n",
    "y = np.array([0.88, 0.97, 0.99])"
   ]
  },
  {
   "cell_type": "code",
   "execution_count": null,
   "id": "8511e676",
   "metadata": {},
   "outputs": [],
   "source": []
  },
  {
   "cell_type": "code",
   "execution_count": null,
   "id": "18e7fc29",
   "metadata": {},
   "outputs": [],
   "source": []
  }
 ],
 "metadata": {
  "kernelspec": {
   "display_name": "Python 3 (ipykernel)",
   "language": "python",
   "name": "python3"
  },
  "language_info": {
   "codemirror_mode": {
    "name": "ipython",
    "version": 3
   },
   "file_extension": ".py",
   "mimetype": "text/x-python",
   "name": "python",
   "nbconvert_exporter": "python",
   "pygments_lexer": "ipython3",
   "version": "3.9.15"
  }
 },
 "nbformat": 4,
 "nbformat_minor": 5
}
