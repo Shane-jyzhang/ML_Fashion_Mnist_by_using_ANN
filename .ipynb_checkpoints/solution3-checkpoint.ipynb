{
 "cells": [
  {
   "cell_type": "markdown",
   "id": "77668a7a",
   "metadata": {},
   "source": [
    "# Neural Network image recognition, MNIST Fashion dataset"
   ]
  },
  {
   "cell_type": "code",
   "execution_count": null,
   "id": "c6827b8c",
   "metadata": {},
   "outputs": [],
   "source": [
    "import pandas as pd     # dataframes\n",
    "import numpy as np      # numbers and arrays \n",
    "import matplotlib.pyplot as plt  # plotting\n",
    "from sklearn import datasets     \n",
    "from sklearn.model_selection import train_test_split"
   ]
  },
  {
   "cell_type": "markdown",
   "id": "e8917eeb",
   "metadata": {},
   "source": [
    "### Load fashion Data "
   ]
  },
  {
   "cell_type": "code",
   "execution_count": null,
   "id": "6c580438",
   "metadata": {},
   "outputs": [],
   "source": [
    "from keras.models import Sequential\n",
    "from keras.layers import Dense, Activation,Flatten\n",
    "from keras.datasets import fashion_mnist as fashion_mnist"
   ]
  },
  {
   "cell_type": "code",
   "execution_count": null,
   "id": "dac92250",
   "metadata": {},
   "outputs": [],
   "source": [
    "(X_train_full,y_train_full),(X_test,y_test)=fashion_mnist.load_data() # don't forget to shuffle training and testing data !"
   ]
  },
  {
   "cell_type": "code",
   "execution_count": null,
   "id": "5847064e",
   "metadata": {},
   "outputs": [],
   "source": [
    "X_test.shape"
   ]
  },
  {
   "cell_type": "markdown",
   "id": "bbcddba5",
   "metadata": {},
   "source": [
    "### plot an image"
   ]
  },
  {
   "cell_type": "code",
   "execution_count": null,
   "id": "e0f17130",
   "metadata": {},
   "outputs": [],
   "source": [
    "X_train_full[1,:,:]\n",
    "type(X_train_full[1,1,1])\n",
    "X_train_full.dtype"
   ]
  },
  {
   "cell_type": "code",
   "execution_count": null,
   "id": "34dc8ad0",
   "metadata": {},
   "outputs": [],
   "source": [
    "image=X_train_full[0,:,:]\n",
    "image=X_test[1]\n",
    "plt.imshow(image,cmap='gray')\n",
    "plt.show()"
   ]
  },
  {
   "cell_type": "code",
   "execution_count": null,
   "id": "bda734b5",
   "metadata": {},
   "outputs": [],
   "source": [
    "#y_train_full[0]"
   ]
  },
  {
   "cell_type": "code",
   "execution_count": null,
   "id": "9609d787",
   "metadata": {},
   "outputs": [],
   "source": [
    "class_names=[\"T-shirt/top\",\"Trousers\",\"Pullover\",\"Dress\",\"Coat\",\"Sandal\",\"Shirt\",\"Sneaker\",\"Bag\",\"Ankle boot\"]\n",
    "#type(class_names)"
   ]
  },
  {
   "cell_type": "code",
   "execution_count": null,
   "id": "e7a19489",
   "metadata": {},
   "outputs": [],
   "source": [
    "class_names[y_train_full[0]]"
   ]
  },
  {
   "cell_type": "markdown",
   "id": "2ef74bd2",
   "metadata": {},
   "source": [
    "### normalize pixels to 0-1 (also get floats) and make a validation set"
   ]
  },
  {
   "cell_type": "code",
   "execution_count": null,
   "id": "5585f490",
   "metadata": {},
   "outputs": [],
   "source": [
    "X_valid=X_train_full[:5000]/255.0  # first 5000 instances of X_train_full\n",
    "X_train=X_train_full[5000:]/255.0 \n",
    "y_valid=y_train_full[:5000]  # first 5000 instances of y_train_full\n",
    "y_train=y_train_full[5000:] \n",
    "X_test=X_test/255.0"
   ]
  },
  {
   "cell_type": "code",
   "execution_count": null,
   "id": "9f730e12",
   "metadata": {},
   "outputs": [],
   "source": [
    "#X_test[0]\n",
    "#y_train.shape"
   ]
  },
  {
   "cell_type": "code",
   "execution_count": null,
   "id": "f591b607",
   "metadata": {},
   "outputs": [],
   "source": [
    "#X_train_full[4999]"
   ]
  },
  {
   "cell_type": "code",
   "execution_count": null,
   "id": "8aa1ddd5",
   "metadata": {},
   "outputs": [],
   "source": [
    "#y_test.shape"
   ]
  },
  {
   "cell_type": "code",
   "execution_count": null,
   "id": "6af27bed",
   "metadata": {},
   "outputs": [],
   "source": [
    "model = Sequential()\n",
    "model.add(Flatten(input_shape=(28,28)))\n",
    "model.add(Dense(300,activation=\"relu\"))\n",
    "model.add(Dense(100,activation=\"relu\"))\n",
    "model.add(Dense(10,activation=\"softmax\"))"
   ]
  },
  {
   "cell_type": "code",
   "execution_count": null,
   "id": "4b028773",
   "metadata": {},
   "outputs": [],
   "source": [
    "model.summary()"
   ]
  },
  {
   "cell_type": "code",
   "execution_count": null,
   "id": "c877b90e",
   "metadata": {},
   "outputs": [],
   "source": [
    "model.compile(loss=\"sparse_categorical_crossentropy\",\n",
    "             optimizer=\"sgd\",\n",
    "             metrics=[\"accuracy\"])"
   ]
  },
  {
   "cell_type": "code",
   "execution_count": null,
   "id": "9a782618",
   "metadata": {},
   "outputs": [],
   "source": [
    "history=model.fit(X_train,y_train,epochs=5,validation_data=(X_valid,y_valid))"
   ]
  },
  {
   "cell_type": "code",
   "execution_count": null,
   "id": "107b88e7",
   "metadata": {},
   "outputs": [],
   "source": [
    "pd.DataFrame(history.history).plot(figsize=(8,5))\n",
    "plt.grid(True)\n",
    "plt.gca().set_ylim(0,1)\n",
    "plt.show()"
   ]
  },
  {
   "cell_type": "code",
   "execution_count": null,
   "id": "b4c0956e",
   "metadata": {},
   "outputs": [],
   "source": [
    "model.evaluate(X_test,y_test)"
   ]
  },
  {
   "cell_type": "markdown",
   "id": "e28155ab",
   "metadata": {},
   "source": [
    "confusion matrix\n",
    "plot neural network and get weights and constant values\n",
    "look for most significant feature\n",
    "only predict on 'safe' predictions, probabillity"
   ]
  },
  {
   "cell_type": "code",
   "execution_count": null,
   "id": "d86f1ff5",
   "metadata": {},
   "outputs": [],
   "source": []
  },
  {
   "cell_type": "code",
   "execution_count": null,
   "id": "567b9556",
   "metadata": {},
   "outputs": [],
   "source": []
  }
 ],
 "metadata": {
  "kernelspec": {
   "display_name": "Python 3 (ipykernel)",
   "language": "python",
   "name": "python3"
  },
  "language_info": {
   "codemirror_mode": {
    "name": "ipython",
    "version": 3
   },
   "file_extension": ".py",
   "mimetype": "text/x-python",
   "name": "python",
   "nbconvert_exporter": "python",
   "pygments_lexer": "ipython3",
   "version": "3.9.13"
  }
 },
 "nbformat": 4,
 "nbformat_minor": 5
}
