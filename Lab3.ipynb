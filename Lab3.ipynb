{
 "cells": [
  {
   "cell_type": "code",
   "execution_count": 1,
   "id": "8d5aa426",
   "metadata": {},
   "outputs": [],
   "source": [
    "import pandas as pd     # dataframes\n",
    "import numpy as np      # numbers and arrays \n",
    "import matplotlib.pyplot as plt  # plotting\n",
    "from sklearn import datasets     \n",
    "from sklearn.model_selection import train_test_split"
   ]
  },
  {
   "cell_type": "code",
   "execution_count": 2,
   "id": "70430ea2",
   "metadata": {},
   "outputs": [
    {
     "name": "stderr",
     "output_type": "stream",
     "text": [
      "2023-01-12 10:47:51.233415: I tensorflow/core/platform/cpu_feature_guard.cc:193] This TensorFlow binary is optimized with oneAPI Deep Neural Network Library (oneDNN) to use the following CPU instructions in performance-critical operations:  SSE4.1 SSE4.2\n",
      "To enable them in other operations, rebuild TensorFlow with the appropriate compiler flags.\n"
     ]
    }
   ],
   "source": [
    "from keras.models import Sequential\n",
    "from keras.layers import Dense, Activation,Flatten\n",
    "from keras.datasets import fashion_mnist as fashion_mnist"
   ]
  },
  {
   "cell_type": "code",
   "execution_count": 3,
   "id": "fc7be38f",
   "metadata": {},
   "outputs": [],
   "source": [
    "(X_train_full,y_train_full),(X_test,y_test)=fashion_mnist.load_data() \n",
    "# don't forget to shuffle training and testing data !"
   ]
  },
  {
   "cell_type": "code",
   "execution_count": 4,
   "id": "837ac1f1",
   "metadata": {},
   "outputs": [
    {
     "data": {
      "text/plain": [
       "(10000, 28, 28)"
      ]
     },
     "execution_count": 4,
     "metadata": {},
     "output_type": "execute_result"
    }
   ],
   "source": [
    "X_train_full.shape\n",
    "X_test.shape"
   ]
  },
  {
   "cell_type": "markdown",
   "id": "92a4ab6e",
   "metadata": {},
   "source": [
    "# Task2 -- Change the choice of instances for training, validation and testing."
   ]
  },
  {
   "cell_type": "code",
   "execution_count": 5,
   "id": "a407fec1",
   "metadata": {},
   "outputs": [
    {
     "data": {
      "text/plain": [
       "(70000, 28, 28)"
      ]
     },
     "execution_count": 5,
     "metadata": {},
     "output_type": "execute_result"
    }
   ],
   "source": [
    "X_max=np.concatenate((X_train_full,X_test),axis=0)\n",
    "X_max.shape"
   ]
  },
  {
   "cell_type": "code",
   "execution_count": 6,
   "id": "ae6a5df5",
   "metadata": {},
   "outputs": [
    {
     "data": {
      "text/plain": [
       "(70000,)"
      ]
     },
     "execution_count": 6,
     "metadata": {},
     "output_type": "execute_result"
    }
   ],
   "source": [
    "y_max=np.concatenate((y_train_full,y_test),axis=0)\n",
    "y_max.shape"
   ]
  },
  {
   "cell_type": "markdown",
   "id": "a4140c98",
   "metadata": {},
   "source": [
    "# Task4 -- Test this by picking only a tenth of the available data"
   ]
  },
  {
   "cell_type": "code",
   "execution_count": 7,
   "id": "e2f2ce09",
   "metadata": {},
   "outputs": [
    {
     "data": {
      "text/plain": [
       "(10000, 28, 28)"
      ]
     },
     "execution_count": 7,
     "metadata": {},
     "output_type": "execute_result"
    }
   ],
   "source": [
    "X_train=X_max[:10000]\n",
    "X_test=X_max[:10000]\n",
    "X_train.shape"
   ]
  },
  {
   "cell_type": "code",
   "execution_count": 8,
   "id": "6631ecea",
   "metadata": {},
   "outputs": [
    {
     "data": {
      "text/plain": [
       "(10000,)"
      ]
     },
     "execution_count": 8,
     "metadata": {},
     "output_type": "execute_result"
    }
   ],
   "source": [
    "y_train=y_max[:10000]\n",
    "#y_test=y_max[:10000]\n",
    "y_train.shape"
   ]
  },
  {
   "cell_type": "code",
   "execution_count": 9,
   "id": "2e373251",
   "metadata": {},
   "outputs": [
    {
     "data": {
      "text/plain": [
       "(10000, 28, 28)"
      ]
     },
     "execution_count": 9,
     "metadata": {},
     "output_type": "execute_result"
    }
   ],
   "source": [
    "X_test.shape #10000\n",
    "#X_train_full.shape #60000\n",
    "#y_test.shape #10000\n",
    "#y_train_full.shape #60000"
   ]
  },
  {
   "cell_type": "code",
   "execution_count": 10,
   "id": "a65043ae",
   "metadata": {},
   "outputs": [
    {
     "data": {
      "text/plain": [
       "numpy.uint8"
      ]
     },
     "execution_count": 10,
     "metadata": {},
     "output_type": "execute_result"
    }
   ],
   "source": [
    "X_train_full[1,:,:]\n",
    "type(X_train_full[1,1,1])\n",
    "#X_train_full.dtype"
   ]
  },
  {
   "cell_type": "code",
   "execution_count": 11,
   "id": "fc76eb1f",
   "metadata": {},
   "outputs": [
    {
     "data": {
      "image/png": "[encoded data removed]",
      "text/plain": [
       "<Figure size 640x480 with 1 Axes>"
      ]
     },
     "metadata": {},
     "output_type": "display_data"
    }
   ],
   "source": [
    "image=X_train_full[0,:,:]\n",
    "image=X_test[0]\n",
    "plt.imshow(image,cmap='gray')\n",
    "plt.show()"
   ]
  },
  {
   "cell_type": "code",
   "execution_count": 12,
   "id": "1f421b3a",
   "metadata": {},
   "outputs": [
    {
     "data": {
      "text/plain": [
       "9"
      ]
     },
     "execution_count": 12,
     "metadata": {},
     "output_type": "execute_result"
    }
   ],
   "source": [
    "y_train_full[0]"
   ]
  },
  {
   "cell_type": "code",
   "execution_count": 13,
   "id": "36d704d9",
   "metadata": {},
   "outputs": [],
   "source": [
    "class_names=[\"T-shirt\",\"Trousers\",\"Pullover\",\"Dress\",\"Coat\",\"Sandal\",\"Shirt\",\"Sneaker\",\"Bag\",\"Ankle boot\"]\n",
    "#type(class_names)"
   ]
  },
  {
   "cell_type": "code",
   "execution_count": 14,
   "id": "88b88f0f",
   "metadata": {},
   "outputs": [
    {
     "data": {
      "text/plain": [
       "'Ankle boot'"
      ]
     },
     "execution_count": 14,
     "metadata": {},
     "output_type": "execute_result"
    }
   ],
   "source": [
    "class_names[y_train_full[0]]"
   ]
  },
  {
   "cell_type": "code",
   "execution_count": 15,
   "id": "677c0fba",
   "metadata": {},
   "outputs": [],
   "source": [
    "X_valid=X_train_full[:5000]/255.0  # first 5000 instances of X_train_full\n",
    "X_train=X_train_full[5000:]\n",
    "y_valid=y_train_full[:5000]  # first 5000 instances of y_train_full\n",
    "y_train=y_train_full[5000:]\n",
    "X_test=X_test/255.0"
   ]
  },
  {
   "cell_type": "code",
   "execution_count": 16,
   "id": "5c29853a",
   "metadata": {},
   "outputs": [
    {
     "data": {
      "text/plain": [
       "(55000, 28, 28)"
      ]
     },
     "execution_count": 16,
     "metadata": {},
     "output_type": "execute_result"
    }
   ],
   "source": [
    "#X_test[0]\n",
    "X_valid.shape\n",
    "#y_train.shape\n",
    "X_train.shape"
   ]
  },
  {
   "cell_type": "code",
   "execution_count": 17,
   "id": "46553087",
   "metadata": {},
   "outputs": [
    {
     "data": {
      "text/plain": [
       "(10000, 28, 28)"
      ]
     },
     "execution_count": 17,
     "metadata": {},
     "output_type": "execute_result"
    }
   ],
   "source": [
    "#X_train_full[4999]\n",
    "y_test.shape\n",
    "X_test.shape"
   ]
  },
  {
   "cell_type": "markdown",
   "id": "80544e07",
   "metadata": {},
   "source": [
    "# Task3 -- reduce number of neurons / layers"
   ]
  },
  {
   "cell_type": "code",
   "execution_count": 18,
   "id": "9d0c66df",
   "metadata": {},
   "outputs": [
    {
     "name": "stderr",
     "output_type": "stream",
     "text": [
      "2023-01-12 10:47:54.792354: I tensorflow/core/platform/cpu_feature_guard.cc:193] This TensorFlow binary is optimized with oneAPI Deep Neural Network Library (oneDNN) to use the following CPU instructions in performance-critical operations:  SSE4.1 SSE4.2\n",
      "To enable them in other operations, rebuild TensorFlow with the appropriate compiler flags.\n"
     ]
    }
   ],
   "source": [
    "model = Sequential()\n",
    "model.add(Flatten(input_shape=(28,28))) #input\n",
    "model.add(Dense(150,activation=\"relu\")) #Sigmoid / relu    300->200\n",
    "#model.add(Dense(100,activation=\"relu\")) #layer    100->50\n",
    "model.add(Dense(10,activation=\"softmax\")) #output"
   ]
  },
  {
   "cell_type": "code",
   "execution_count": 24,
   "id": "7782dc53",
   "metadata": {},
   "outputs": [
    {
     "name": "stdout",
     "output_type": "stream",
     "text": [
      "Model: \"sequential\"\n",
      "_________________________________________________________________\n",
      " Layer (type)                Output Shape              Param #   \n",
      "=================================================================\n",
      " flatten (Flatten)           (None, 784)               0         \n",
      "                                                                 \n",
      " dense (Dense)               (None, 150)               117750    \n",
      "                                                                 \n",
      " dense_1 (Dense)             (None, 10)                1510      \n",
      "                                                                 \n",
      "=================================================================\n",
      "Total params: 119,260\n",
      "Trainable params: 119,260\n",
      "Non-trainable params: 0\n",
      "_________________________________________________________________\n"
     ]
    }
   ],
   "source": [
    "model.summary()"
   ]
  },
  {
   "cell_type": "code",
   "execution_count": 20,
   "id": "3fb80948",
   "metadata": {},
   "outputs": [],
   "source": [
    "model.compile(loss=\"sparse_categorical_crossentropy\",\n",
    "             optimizer=\"sgd\",\n",
    "             metrics=[\"accuracy\"])"
   ]
  },
  {
   "cell_type": "code",
   "execution_count": 21,
   "id": "c75438f0",
   "metadata": {
    "scrolled": true
   },
   "outputs": [
    {
     "name": "stdout",
     "output_type": "stream",
     "text": [
      "Epoch 1/5\n",
      "1719/1719 [==============================] - 2s 928us/step - loss: 211.6092 - accuracy: 0.1016 - val_loss: 2.3014 - val_accuracy: 0.1016\n",
      "Epoch 2/5\n",
      "1719/1719 [==============================] - 1s 869us/step - loss: 2.2709 - accuracy: 0.1143 - val_loss: 2.3022 - val_accuracy: 0.0938\n",
      "Epoch 3/5\n",
      "1719/1719 [==============================] - 1s 870us/step - loss: 2.2501 - accuracy: 0.1261 - val_loss: 2.2901 - val_accuracy: 0.1192\n",
      "Epoch 4/5\n",
      "1719/1719 [==============================] - 1s 865us/step - loss: 2.2258 - accuracy: 0.1385 - val_loss: 2.3009 - val_accuracy: 0.0922\n",
      "Epoch 5/5\n",
      "1719/1719 [==============================] - 1s 867us/step - loss: 2.2161 - accuracy: 0.1396 - val_loss: 2.2873 - val_accuracy: 0.1094\n"
     ]
    }
   ],
   "source": [
    "history=model.fit(X_train,y_train,epochs=5,validation_data=(X_valid,y_valid))"
   ]
  },
  {
   "cell_type": "raw",
   "id": "a0e354ad",
   "metadata": {},
   "source": [
    "\"Task3\"\n",
    "--- reduce number of neurons --> accuracy goes down to 0.8536 ---\n",
    "--- reduce number of layers --> accuracy goes down to 0.8554 ---\n",
    "--- reduce both number of neurons and layers --> accuracy goes down to 0.094 ---"
   ]
  },
  {
   "cell_type": "code",
   "execution_count": 22,
   "id": "cac817f0",
   "metadata": {},
   "outputs": [
    {
     "data": {
      "image/png": "[encoded data removed]",
      "text/plain": [
       "<Figure size 800x500 with 1 Axes>"
      ]
     },
     "metadata": {},
     "output_type": "display_data"
    }
   ],
   "source": [
    "pd.DataFrame(history.history).plot(figsize=(8,5))\n",
    "plt.grid(True)\n",
    "plt.gca().set_ylim(0,1)\n",
    "plt.show()"
   ]
  },
  {
   "cell_type": "code",
   "execution_count": 23,
   "id": "da395027",
   "metadata": {},
   "outputs": [
    {
     "name": "stdout",
     "output_type": "stream",
     "text": [
      "313/313 [==============================] - 0s 630us/step - loss: 2.3147 - accuracy: 0.1000\n"
     ]
    },
    {
     "data": {
      "text/plain": [
       "[2.3147459030151367, 0.10000000149011612]"
      ]
     },
     "execution_count": 23,
     "metadata": {},
     "output_type": "execute_result"
    }
   ],
   "source": [
    "model.evaluate(X_test,y_test)"
   ]
  },
  {
   "cell_type": "raw",
   "id": "43f11fe5",
   "metadata": {},
   "source": [
    "\"Task4\"\n",
    "--- reduce the number of trainning data and the layer --> accuracy goes down to 0.1000 ---"
   ]
  },
  {
   "cell_type": "code",
   "execution_count": null,
   "id": "bfe40c6d",
   "metadata": {},
   "outputs": [],
   "source": []
  },
  {
   "cell_type": "code",
   "execution_count": null,
   "id": "965ab1af",
   "metadata": {},
   "outputs": [],
   "source": []
  }
 ],
 "metadata": {
  "kernelspec": {
   "display_name": "Python 3 (ipykernel)",
   "language": "python",
   "name": "python3"
  },
  "language_info": {
   "codemirror_mode": {
    "name": "ipython",
    "version": 3
   },
   "file_extension": ".py",
   "mimetype": "text/x-python",
   "name": "python",
   "nbconvert_exporter": "python",
   "pygments_lexer": "ipython3",
   "version": "3.9.15"
  }
 },
 "nbformat": 4,
 "nbformat_minor": 5
}
